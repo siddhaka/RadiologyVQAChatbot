{
  "cells": [
    {
      "cell_type": "markdown",
      "metadata": {},
      "source": [
        "# Radiology VQA Chatbot \n",
        "\n"
      ]
    },
    {
      "cell_type": "code",
      "execution_count": 1,
      "metadata": {},
      "outputs": [
        {
          "name": "stdout",
          "output_type": "stream",
          "text": [
            "Requirement already satisfied: torch in /system/conda/miniconda3/envs/cloudspace/lib/python3.10/site-packages (2.7.0+cu128)\n",
            "Requirement already satisfied: torchvision in /system/conda/miniconda3/envs/cloudspace/lib/python3.10/site-packages (0.22.0+cu128)\n",
            "Requirement already satisfied: transformers in /system/conda/miniconda3/envs/cloudspace/lib/python3.10/site-packages (4.51.3)\n",
            "Requirement already satisfied: faiss-cpu in /system/conda/miniconda3/envs/cloudspace/lib/python3.10/site-packages (1.10.0)\n",
            "Requirement already satisfied: openai in /system/conda/miniconda3/envs/cloudspace/lib/python3.10/site-packages (1.76.0)\n",
            "Requirement already satisfied: gradio in /system/conda/miniconda3/envs/cloudspace/lib/python3.10/site-packages (5.27.0)\n",
            "Requirement already satisfied: pillow in /system/conda/miniconda3/envs/cloudspace/lib/python3.10/site-packages (11.2.1)\n",
            "Requirement already satisfied: tqdm in /system/conda/miniconda3/envs/cloudspace/lib/python3.10/site-packages (4.67.1)\n",
            "Requirement already satisfied: filelock in /system/conda/miniconda3/envs/cloudspace/lib/python3.10/site-packages (from torch) (3.18.0)\n",
            "Requirement already satisfied: typing-extensions>=4.10.0 in /system/conda/miniconda3/envs/cloudspace/lib/python3.10/site-packages (from torch) (4.13.2)\n",
            "Requirement already satisfied: sympy>=1.13.3 in /system/conda/miniconda3/envs/cloudspace/lib/python3.10/site-packages (from torch) (1.13.3)\n",
            "Requirement already satisfied: networkx in /system/conda/miniconda3/envs/cloudspace/lib/python3.10/site-packages (from torch) (3.4.2)\n",
            "Requirement already satisfied: jinja2 in /system/conda/miniconda3/envs/cloudspace/lib/python3.10/site-packages (from torch) (3.1.6)\n",
            "Requirement already satisfied: fsspec in /system/conda/miniconda3/envs/cloudspace/lib/python3.10/site-packages (from torch) (2025.3.2)\n",
            "Requirement already satisfied: nvidia-cuda-nvrtc-cu12==12.8.61 in /system/conda/miniconda3/envs/cloudspace/lib/python3.10/site-packages (from torch) (12.8.61)\n",
            "Requirement already satisfied: nvidia-cuda-runtime-cu12==12.8.57 in /system/conda/miniconda3/envs/cloudspace/lib/python3.10/site-packages (from torch) (12.8.57)\n",
            "Requirement already satisfied: nvidia-cuda-cupti-cu12==12.8.57 in /system/conda/miniconda3/envs/cloudspace/lib/python3.10/site-packages (from torch) (12.8.57)\n",
            "Requirement already satisfied: nvidia-cudnn-cu12==9.7.1.26 in /system/conda/miniconda3/envs/cloudspace/lib/python3.10/site-packages (from torch) (9.7.1.26)\n",
            "Requirement already satisfied: nvidia-cublas-cu12==12.8.3.14 in /system/conda/miniconda3/envs/cloudspace/lib/python3.10/site-packages (from torch) (12.8.3.14)\n",
            "Requirement already satisfied: nvidia-cufft-cu12==11.3.3.41 in /system/conda/miniconda3/envs/cloudspace/lib/python3.10/site-packages (from torch) (11.3.3.41)\n",
            "Requirement already satisfied: nvidia-curand-cu12==10.3.9.55 in /system/conda/miniconda3/envs/cloudspace/lib/python3.10/site-packages (from torch) (10.3.9.55)\n",
            "Requirement already satisfied: nvidia-cusolver-cu12==11.7.2.55 in /system/conda/miniconda3/envs/cloudspace/lib/python3.10/site-packages (from torch) (11.7.2.55)\n",
            "Requirement already satisfied: nvidia-cusparse-cu12==12.5.7.53 in /system/conda/miniconda3/envs/cloudspace/lib/python3.10/site-packages (from torch) (12.5.7.53)\n",
            "Requirement already satisfied: nvidia-cusparselt-cu12==0.6.3 in /system/conda/miniconda3/envs/cloudspace/lib/python3.10/site-packages (from torch) (0.6.3)\n",
            "Requirement already satisfied: nvidia-nccl-cu12==2.26.2 in /system/conda/miniconda3/envs/cloudspace/lib/python3.10/site-packages (from torch) (2.26.2)\n",
            "Requirement already satisfied: nvidia-nvtx-cu12==12.8.55 in /system/conda/miniconda3/envs/cloudspace/lib/python3.10/site-packages (from torch) (12.8.55)\n",
            "Requirement already satisfied: nvidia-nvjitlink-cu12==12.8.61 in /system/conda/miniconda3/envs/cloudspace/lib/python3.10/site-packages (from torch) (12.8.61)\n",
            "Requirement already satisfied: nvidia-cufile-cu12==1.13.0.11 in /system/conda/miniconda3/envs/cloudspace/lib/python3.10/site-packages (from torch) (1.13.0.11)\n",
            "Requirement already satisfied: triton==3.3.0 in /system/conda/miniconda3/envs/cloudspace/lib/python3.10/site-packages (from torch) (3.3.0)\n",
            "Requirement already satisfied: setuptools>=40.8.0 in /system/conda/miniconda3/envs/cloudspace/lib/python3.10/site-packages (from triton==3.3.0->torch) (75.8.0)\n",
            "Requirement already satisfied: numpy in /system/conda/miniconda3/envs/cloudspace/lib/python3.10/site-packages (from torchvision) (1.26.4)\n",
            "Requirement already satisfied: huggingface-hub<1.0,>=0.30.0 in /system/conda/miniconda3/envs/cloudspace/lib/python3.10/site-packages (from transformers) (0.30.2)\n",
            "Requirement already satisfied: packaging>=20.0 in /system/conda/miniconda3/envs/cloudspace/lib/python3.10/site-packages (from transformers) (24.2)\n",
            "Requirement already satisfied: pyyaml>=5.1 in /system/conda/miniconda3/envs/cloudspace/lib/python3.10/site-packages (from transformers) (6.0.2)\n",
            "Requirement already satisfied: regex!=2019.12.17 in /system/conda/miniconda3/envs/cloudspace/lib/python3.10/site-packages (from transformers) (2024.11.6)\n",
            "Requirement already satisfied: requests in /system/conda/miniconda3/envs/cloudspace/lib/python3.10/site-packages (from transformers) (2.32.3)\n",
            "Requirement already satisfied: tokenizers<0.22,>=0.21 in /system/conda/miniconda3/envs/cloudspace/lib/python3.10/site-packages (from transformers) (0.21.1)\n",
            "Requirement already satisfied: safetensors>=0.4.3 in /system/conda/miniconda3/envs/cloudspace/lib/python3.10/site-packages (from transformers) (0.5.3)\n",
            "Requirement already satisfied: anyio<5,>=3.5.0 in /system/conda/miniconda3/envs/cloudspace/lib/python3.10/site-packages (from openai) (4.9.0)\n",
            "Requirement already satisfied: distro<2,>=1.7.0 in /system/conda/miniconda3/envs/cloudspace/lib/python3.10/site-packages (from openai) (1.9.0)\n",
            "Requirement already satisfied: httpx<1,>=0.23.0 in /system/conda/miniconda3/envs/cloudspace/lib/python3.10/site-packages (from openai) (0.28.1)\n",
            "Requirement already satisfied: jiter<1,>=0.4.0 in /system/conda/miniconda3/envs/cloudspace/lib/python3.10/site-packages (from openai) (0.9.0)\n",
            "Requirement already satisfied: pydantic<3,>=1.9.0 in /system/conda/miniconda3/envs/cloudspace/lib/python3.10/site-packages (from openai) (2.11.3)\n",
            "Requirement already satisfied: sniffio in /system/conda/miniconda3/envs/cloudspace/lib/python3.10/site-packages (from openai) (1.3.1)\n",
            "Requirement already satisfied: aiofiles<25.0,>=22.0 in /system/conda/miniconda3/envs/cloudspace/lib/python3.10/site-packages (from gradio) (24.1.0)\n",
            "Requirement already satisfied: fastapi<1.0,>=0.115.2 in /system/conda/miniconda3/envs/cloudspace/lib/python3.10/site-packages (from gradio) (0.115.12)\n",
            "Requirement already satisfied: ffmpy in /system/conda/miniconda3/envs/cloudspace/lib/python3.10/site-packages (from gradio) (0.5.0)\n",
            "Requirement already satisfied: gradio-client==1.9.0 in /system/conda/miniconda3/envs/cloudspace/lib/python3.10/site-packages (from gradio) (1.9.0)\n",
            "Requirement already satisfied: groovy~=0.1 in /system/conda/miniconda3/envs/cloudspace/lib/python3.10/site-packages (from gradio) (0.1.2)\n",
            "Requirement already satisfied: markupsafe<4.0,>=2.0 in /system/conda/miniconda3/envs/cloudspace/lib/python3.10/site-packages (from gradio) (3.0.2)\n",
            "Requirement already satisfied: orjson~=3.0 in /system/conda/miniconda3/envs/cloudspace/lib/python3.10/site-packages (from gradio) (3.10.16)\n",
            "Requirement already satisfied: pandas<3.0,>=1.0 in /system/conda/miniconda3/envs/cloudspace/lib/python3.10/site-packages (from gradio) (2.1.4)\n",
            "Requirement already satisfied: pydub in /system/conda/miniconda3/envs/cloudspace/lib/python3.10/site-packages (from gradio) (0.25.1)\n",
            "Requirement already satisfied: python-multipart>=0.0.18 in /system/conda/miniconda3/envs/cloudspace/lib/python3.10/site-packages (from gradio) (0.0.20)\n",
            "Requirement already satisfied: ruff>=0.9.3 in /system/conda/miniconda3/envs/cloudspace/lib/python3.10/site-packages (from gradio) (0.11.7)\n",
            "Requirement already satisfied: safehttpx<0.2.0,>=0.1.6 in /system/conda/miniconda3/envs/cloudspace/lib/python3.10/site-packages (from gradio) (0.1.6)\n",
            "Requirement already satisfied: semantic-version~=2.0 in /system/conda/miniconda3/envs/cloudspace/lib/python3.10/site-packages (from gradio) (2.10.0)\n",
            "Requirement already satisfied: starlette<1.0,>=0.40.0 in /system/conda/miniconda3/envs/cloudspace/lib/python3.10/site-packages (from gradio) (0.46.2)\n",
            "Requirement already satisfied: tomlkit<0.14.0,>=0.12.0 in /system/conda/miniconda3/envs/cloudspace/lib/python3.10/site-packages (from gradio) (0.13.2)\n",
            "Requirement already satisfied: typer<1.0,>=0.12 in /system/conda/miniconda3/envs/cloudspace/lib/python3.10/site-packages (from gradio) (0.15.2)\n",
            "Requirement already satisfied: uvicorn>=0.14.0 in /system/conda/miniconda3/envs/cloudspace/lib/python3.10/site-packages (from gradio) (0.34.2)\n",
            "Requirement already satisfied: websockets<16.0,>=10.0 in /system/conda/miniconda3/envs/cloudspace/lib/python3.10/site-packages (from gradio-client==1.9.0->gradio) (15.0.1)\n",
            "Requirement already satisfied: exceptiongroup>=1.0.2 in /system/conda/miniconda3/envs/cloudspace/lib/python3.10/site-packages (from anyio<5,>=3.5.0->openai) (1.2.2)\n",
            "Requirement already satisfied: idna>=2.8 in /system/conda/miniconda3/envs/cloudspace/lib/python3.10/site-packages (from anyio<5,>=3.5.0->openai) (3.10)\n",
            "Requirement already satisfied: certifi in /system/conda/miniconda3/envs/cloudspace/lib/python3.10/site-packages (from httpx<1,>=0.23.0->openai) (2025.1.31)\n",
            "Requirement already satisfied: httpcore==1.* in /system/conda/miniconda3/envs/cloudspace/lib/python3.10/site-packages (from httpx<1,>=0.23.0->openai) (1.0.8)\n",
            "Requirement already satisfied: h11<0.15,>=0.13 in /system/conda/miniconda3/envs/cloudspace/lib/python3.10/site-packages (from httpcore==1.*->httpx<1,>=0.23.0->openai) (0.14.0)\n",
            "Requirement already satisfied: python-dateutil>=2.8.2 in /system/conda/miniconda3/envs/cloudspace/lib/python3.10/site-packages (from pandas<3.0,>=1.0->gradio) (2.9.0.post0)\n",
            "Requirement already satisfied: pytz>=2020.1 in /system/conda/miniconda3/envs/cloudspace/lib/python3.10/site-packages (from pandas<3.0,>=1.0->gradio) (2025.2)\n",
            "Requirement already satisfied: tzdata>=2022.1 in /system/conda/miniconda3/envs/cloudspace/lib/python3.10/site-packages (from pandas<3.0,>=1.0->gradio) (2025.2)\n",
            "Requirement already satisfied: annotated-types>=0.6.0 in /system/conda/miniconda3/envs/cloudspace/lib/python3.10/site-packages (from pydantic<3,>=1.9.0->openai) (0.7.0)\n",
            "Requirement already satisfied: pydantic-core==2.33.1 in /system/conda/miniconda3/envs/cloudspace/lib/python3.10/site-packages (from pydantic<3,>=1.9.0->openai) (2.33.1)\n",
            "Requirement already satisfied: typing-inspection>=0.4.0 in /system/conda/miniconda3/envs/cloudspace/lib/python3.10/site-packages (from pydantic<3,>=1.9.0->openai) (0.4.0)\n",
            "Requirement already satisfied: mpmath<1.4,>=1.1.0 in /system/conda/miniconda3/envs/cloudspace/lib/python3.10/site-packages (from sympy>=1.13.3->torch) (1.3.0)\n",
            "Requirement already satisfied: click>=8.0.0 in /system/conda/miniconda3/envs/cloudspace/lib/python3.10/site-packages (from typer<1.0,>=0.12->gradio) (8.1.8)\n",
            "Requirement already satisfied: shellingham>=1.3.0 in /system/conda/miniconda3/envs/cloudspace/lib/python3.10/site-packages (from typer<1.0,>=0.12->gradio) (1.5.4)\n",
            "Requirement already satisfied: rich>=10.11.0 in /system/conda/miniconda3/envs/cloudspace/lib/python3.10/site-packages (from typer<1.0,>=0.12->gradio) (14.0.0)\n",
            "Requirement already satisfied: charset-normalizer<4,>=2 in /system/conda/miniconda3/envs/cloudspace/lib/python3.10/site-packages (from requests->transformers) (3.4.1)\n",
            "Requirement already satisfied: urllib3<3,>=1.21.1 in /system/conda/miniconda3/envs/cloudspace/lib/python3.10/site-packages (from requests->transformers) (2.4.0)\n",
            "Requirement already satisfied: six>=1.5 in /system/conda/miniconda3/envs/cloudspace/lib/python3.10/site-packages (from python-dateutil>=2.8.2->pandas<3.0,>=1.0->gradio) (1.17.0)\n",
            "Requirement already satisfied: markdown-it-py>=2.2.0 in /system/conda/miniconda3/envs/cloudspace/lib/python3.10/site-packages (from rich>=10.11.0->typer<1.0,>=0.12->gradio) (3.0.0)\n",
            "Requirement already satisfied: pygments<3.0.0,>=2.13.0 in /system/conda/miniconda3/envs/cloudspace/lib/python3.10/site-packages (from rich>=10.11.0->typer<1.0,>=0.12->gradio) (2.19.1)\n",
            "Requirement already satisfied: mdurl~=0.1 in /system/conda/miniconda3/envs/cloudspace/lib/python3.10/site-packages (from markdown-it-py>=2.2.0->rich>=10.11.0->typer<1.0,>=0.12->gradio) (0.1.2)\n",
            "\n",
            "\u001b[1m[\u001b[0m\u001b[34;49mnotice\u001b[0m\u001b[1;39;49m]\u001b[0m\u001b[39;49m A new release of pip is available: \u001b[0m\u001b[31;49m25.0.1\u001b[0m\u001b[39;49m -> \u001b[0m\u001b[32;49m25.1\u001b[0m\n",
            "\u001b[1m[\u001b[0m\u001b[34;49mnotice\u001b[0m\u001b[1;39;49m]\u001b[0m\u001b[39;49m To update, run: \u001b[0m\u001b[32;49mpip install --upgrade pip\u001b[0m\n"
          ]
        }
      ],
      "source": [
        "!pip install torch torchvision transformers faiss-cpu openai gradio pillow tqdm\n"
      ]
    },
    {
      "cell_type": "code",
      "execution_count": 24,
      "id": "fc046161",
      "metadata": {},
      "outputs": [
        {
          "name": "stdout",
          "output_type": "stream",
          "text": [
            "Collecting openai==0.28\n",
            "  Using cached openai-0.28.0-py3-none-any.whl.metadata (13 kB)\n",
            "Requirement already satisfied: requests>=2.20 in /system/conda/miniconda3/envs/cloudspace/lib/python3.10/site-packages (from openai==0.28) (2.32.3)\n",
            "Requirement already satisfied: tqdm in /system/conda/miniconda3/envs/cloudspace/lib/python3.10/site-packages (from openai==0.28) (4.67.1)\n",
            "Requirement already satisfied: aiohttp in /system/conda/miniconda3/envs/cloudspace/lib/python3.10/site-packages (from openai==0.28) (3.11.18)\n",
            "Requirement already satisfied: charset-normalizer<4,>=2 in /system/conda/miniconda3/envs/cloudspace/lib/python3.10/site-packages (from requests>=2.20->openai==0.28) (3.4.1)\n",
            "Requirement already satisfied: idna<4,>=2.5 in /system/conda/miniconda3/envs/cloudspace/lib/python3.10/site-packages (from requests>=2.20->openai==0.28) (3.10)\n",
            "Requirement already satisfied: urllib3<3,>=1.21.1 in /system/conda/miniconda3/envs/cloudspace/lib/python3.10/site-packages (from requests>=2.20->openai==0.28) (2.4.0)\n",
            "Requirement already satisfied: certifi>=2017.4.17 in /system/conda/miniconda3/envs/cloudspace/lib/python3.10/site-packages (from requests>=2.20->openai==0.28) (2025.1.31)\n",
            "Requirement already satisfied: aiohappyeyeballs>=2.3.0 in /system/conda/miniconda3/envs/cloudspace/lib/python3.10/site-packages (from aiohttp->openai==0.28) (2.6.1)\n",
            "Requirement already satisfied: aiosignal>=1.1.2 in /system/conda/miniconda3/envs/cloudspace/lib/python3.10/site-packages (from aiohttp->openai==0.28) (1.3.2)\n",
            "Requirement already satisfied: async-timeout<6.0,>=4.0 in /system/conda/miniconda3/envs/cloudspace/lib/python3.10/site-packages (from aiohttp->openai==0.28) (5.0.1)\n",
            "Requirement already satisfied: attrs>=17.3.0 in /system/conda/miniconda3/envs/cloudspace/lib/python3.10/site-packages (from aiohttp->openai==0.28) (25.3.0)\n",
            "Requirement already satisfied: frozenlist>=1.1.1 in /system/conda/miniconda3/envs/cloudspace/lib/python3.10/site-packages (from aiohttp->openai==0.28) (1.6.0)\n",
            "Requirement already satisfied: multidict<7.0,>=4.5 in /system/conda/miniconda3/envs/cloudspace/lib/python3.10/site-packages (from aiohttp->openai==0.28) (6.4.3)\n",
            "Requirement already satisfied: propcache>=0.2.0 in /system/conda/miniconda3/envs/cloudspace/lib/python3.10/site-packages (from aiohttp->openai==0.28) (0.3.1)\n",
            "Requirement already satisfied: yarl<2.0,>=1.17.0 in /system/conda/miniconda3/envs/cloudspace/lib/python3.10/site-packages (from aiohttp->openai==0.28) (1.20.0)\n",
            "Requirement already satisfied: typing-extensions>=4.1.0 in /system/conda/miniconda3/envs/cloudspace/lib/python3.10/site-packages (from multidict<7.0,>=4.5->aiohttp->openai==0.28) (4.13.2)\n",
            "Using cached openai-0.28.0-py3-none-any.whl (76 kB)\n",
            "Installing collected packages: openai\n",
            "Successfully installed openai-0.28.0\n"
          ]
        }
      ],
      "source": [
        "!pip install openai==0.28"
      ]
    },
    {
      "cell_type": "code",
      "execution_count": 1,
      "metadata": {},
      "outputs": [],
      "source": [
        "import os\n",
        "import json\n",
        "import numpy as np\n",
        "import faiss\n",
        "import torch\n",
        "from PIL import Image\n",
        "from tqdm import tqdm\n",
        "import gradio as gr\n",
        "\n",
        "# Prompt for your key securely (won't show it on screen)\n",
        "from getpass import getpass\n",
        "import openai\n",
        "\n",
        "openai.api_key = getpass(\"🔑 Enter your OpenAI API key: \")\n",
        "\n",
        "# Paths (adjust if needed)\n",
        "DATA_JSON = '/teamspace/studios/this_studio/VQA_RAD Dataset Public.json'\n",
        "IMG_DIR   = '/teamspace/studios/this_studio/data'\n",
        "OUTPUT = '/teamspace/studios/this_studio/records.json'"
      ]
    },
    {
      "cell_type": "code",
      "execution_count": 2,
      "metadata": {},
      "outputs": [],
      "source": [
        "with open(DATA_JSON, 'r') as f:\n",
        "    raw = json.load(f)\n",
        "\n",
        "records = []\n",
        "for ex in raw:\n",
        "    # Field names per README :contentReference[oaicite:0]{index=0}&#8203;:contentReference[oaicite:1]{index=1}\n",
        "    img_name = ex['image_name']   # exact case\n",
        "    question = ex['question']\n",
        "    answer   = ex['answer']       # capital “A”\n",
        "    img_path = os.path.join(IMG_DIR, img_name)\n",
        "\n",
        "    # Verify the image is present\n",
        "    try:\n",
        "        Image.open(img_path)\n",
        "        records.append((img_path, question, answer))\n",
        "    except FileNotFoundError:\n",
        "        # skip missing files\n",
        "        continue\n"
      ]
    },
    {
      "cell_type": "code",
      "execution_count": 4,
      "id": "ef7aa8cf",
      "metadata": {},
      "outputs": [
        {
          "name": "stdout",
          "output_type": "stream",
          "text": [
            "Wrote 2248 records → /teamspace/studios/this_studio/records.json\n"
          ]
        }
      ],
      "source": [
        "with open(OUTPUT, 'w') as f:\n",
        "    json.dump(records, f, indent=2)\n",
        "\n",
        "print(f\"Wrote {len(records)} records → {OUTPUT}\")"
      ]
    },
    {
      "cell_type": "code",
      "execution_count": 3,
      "id": "fdd06d90",
      "metadata": {},
      "outputs": [],
      "source": [
        "from transformers import CLIPProcessor, CLIPModel"
      ]
    },
    {
      "cell_type": "code",
      "execution_count": 4,
      "id": "97f516e6",
      "metadata": {},
      "outputs": [],
      "source": [
        "INDEX_FILE = '/teamspace/studios/this_studio/images.index'\n",
        "EMB_FILE = '/teamspace/studios/this_studio/image_embs.npy'"
      ]
    },
    {
      "cell_type": "code",
      "execution_count": 8,
      "metadata": {},
      "outputs": [
        {
          "name": "stderr",
          "output_type": "stream",
          "text": [
            "100%|██████████| 2248/2248 [00:54<00:00, 41.15it/s]\n"
          ]
        },
        {
          "name": "stdout",
          "output_type": "stream",
          "text": [
            "Built FAISS index with joint image+text dim=1024\n"
          ]
        }
      ],
      "source": [
        "\n",
        "\n",
        "with open(OUTPUT, 'r') as f:\n",
        "    records = json.load(f)\n",
        "\n",
        "device = torch.device(\"cuda\")\n",
        "\n",
        "# init CLIP\n",
        "processor  = CLIPProcessor.from_pretrained('openai/clip-vit-base-patch32')\n",
        "clip_model = CLIPModel.from_pretrained('openai/clip-vit-base-patch32').to(device)\n",
        "\n",
        "joint_embs = []\n",
        "for img_path, question, _ in tqdm(records):\n",
        "    # --- Image embedding on GPU ---\n",
        "    img = Image.open(img_path).convert(\"RGB\")\n",
        "    pix = processor(images=img, return_tensors=\"pt\")[\"pixel_values\"].to(device)\n",
        "    with torch.no_grad():\n",
        "        img_feat = clip_model.get_image_features(pix).squeeze()\n",
        "    img_feat = img_feat / img_feat.norm()\n",
        "    \n",
        "    # --- Text embedding on GPU ---\n",
        "    txt = processor(text=question, return_tensors=\"pt\", padding=True).to(device)\n",
        "    with torch.no_grad():\n",
        "        txt_feat = clip_model.get_text_features(**txt).squeeze()\n",
        "    txt_feat = txt_feat / txt_feat.norm()\n",
        "    \n",
        "    # --- Joint embedding (concatenate) ---\n",
        "    joint = torch.cat([img_feat, txt_feat], dim=-1)\n",
        "    joint_embs.append(joint.cpu().numpy().astype(\"float32\"))\n",
        "\n",
        "joint_embs = np.vstack(joint_embs)\n",
        "\n",
        "# Build a FAISS index over the joint vector\n",
        "dim = joint_embs.shape[1]\n",
        "index = faiss.IndexFlatIP(dim)\n",
        "faiss.normalize_L2(joint_embs)   # ensure rows are unit‐norm if you want cosine\n",
        "index.add(joint_embs)\n",
        "faiss.write_index(index, INDEX_FILE)\n",
        "np.save(EMB_FILE, joint_embs)\n",
        "print(f\"Built FAISS index with joint image+text dim={dim}\")\n"
      ]
    },
    {
      "cell_type": "code",
      "execution_count": 5,
      "metadata": {},
      "outputs": [
        {
          "name": "stderr",
          "output_type": "stream",
          "text": [
            "Using a slow image processor as `use_fast` is unset and a slow processor was saved with this model. `use_fast=True` will be the default behavior in v4.52, even if the model was saved with a slow processor. This will result in minor differences in outputs. You'll still be able to use a slow processor with `use_fast=False`.\n"
          ]
        }
      ],
      "source": [
        "device = torch.device(\"cuda\")\n",
        "processor  = CLIPProcessor.from_pretrained('openai/clip-vit-base-patch32')\n",
        "clip_model = CLIPModel.from_pretrained('openai/clip-vit-base-patch32').to(device)\n",
        "clip_model.eval()\n",
        "\n",
        "index = faiss.read_index(INDEX_FILE)\n",
        "records = json.load(open(OUTPUT, 'r'))\n",
        "emb_matrix = np.load(EMB_FILE)\n",
        "def encode_query(image: np.ndarray, question: str) -> np.ndarray:\n",
        "    # image → feat \n",
        "    img = Image.fromarray(image).convert(\"RGB\")\n",
        "    pix = processor(images=img, return_tensors=\"pt\")[\"pixel_values\"].to(device)\n",
        "    with torch.no_grad():\n",
        "        img_feat = clip_model.get_image_features(pix).squeeze()\n",
        "    img_feat = img_feat / img_feat.norm()\n",
        "    \n",
        "    # question → txt_feat\n",
        "    txt = processor(text=question, return_tensors=\"pt\", padding=True).to(device)\n",
        "    with torch.no_grad():\n",
        "        txt_feat = clip_model.get_text_features(**txt).squeeze()\n",
        "    txt_feat = txt_feat / txt_feat.norm()\n",
        "\n",
        "    # combining them\n",
        "    joint = torch.cat([img_feat, txt_feat], dim=-1)\n",
        "    return joint.cpu().numpy().astype(\"float32\")\n",
        "\n",
        "def retrieve_examples(feat, top_k=5):\n",
        "    _, ids = index.search(feat.reshape(1,-1), top_k)\n",
        "    return [records[i] for i in ids[0]]\n",
        "\n",
        "\n",
        "\n",
        "def generate_answer(question, examples):\n",
        "    context = '\\n'.join([f\"Q: {q}\\nA: {a}\" for _, q, a in examples])\n",
        "    prompt = (\n",
        "        f\"Act as a radiology assistant assessing XRay images. Examples:\\n{context}\\n\"\n",
        "        f\"Now answer in 1 or 2 short sentences: {question}\\nA:\"\n",
        "    )\n",
        "    resp = openai.ChatCompletion.create(\n",
        "        model=\"gpt-4\",\n",
        "        messages=[{\"role\":\"user\",\"content\":prompt}],\n",
        "        temperature=0.0\n",
        "    )\n",
        "    return resp.choices[0].message.content.strip()\n",
        "\n",
        "\n"
      ]
    },
    {
      "cell_type": "code",
      "execution_count": 6,
      "id": "2145864f",
      "metadata": {},
      "outputs": [
        {
          "name": "stdout",
          "output_type": "stream",
          "text": [
            "=== Retrieved Examples ===\n",
            "1. Q: Is there pneumothorax?\n",
            "   A: No\n",
            "\n",
            "2. Q: what is the pathology\n",
            "   A: left lobe mass 1.5 x 1.8 cm\n",
            "\n",
            "3. Q: Is there fluid in the lungs?\n",
            "   A: No\n",
            "\n",
            "4. Q: Is there fluid in the lung?\n",
            "   A: yes\n",
            "\n",
            "5. Q: Is there a lung mass?\n",
            "   A: yes\n",
            "\n",
            "=== Model’s Answer ===\n",
            "No, there is no evidence of pneumonia in the XRay images.\n"
          ]
        }
      ],
      "source": [
        "\n",
        "test_img      = '/teamspace/studios/this_studio/data/synpic16221.jpg'\n",
        "test_question = \"Is there pneumonia?\"\n",
        "\n",
        "# Loading and encoding the joint query (image + question)\n",
        "img_arr = np.array(Image.open(test_img).convert('RGB'))\n",
        "query_emb = encode_query(img_arr, test_question)\n",
        "\n",
        "# Retrieving nearest Q/A examples\n",
        "_, ids = index.search(query_emb.reshape(1, -1), 5)\n",
        "examples = [records[i] for i in ids[0]]\n",
        "\n",
        "print(\"=== Retrieved Examples ===\")\n",
        "for i, (img_path, q, a) in enumerate(examples, 1):\n",
        "    print(f\"{i}. Q: {q}\\n   A: {a}\\n\")\n",
        "\n",
        "# Generating and print the final answer\n",
        "print(\"=== Model’s Answer ===\")\n",
        "answer = generate_answer(test_question, examples)\n",
        "print(answer)\n"
      ]
    },
    {
      "cell_type": "code",
      "execution_count": 7,
      "metadata": {},
      "outputs": [
        {
          "name": "stdout",
          "output_type": "stream",
          "text": [
            "* Running on local URL:  http://127.0.0.1:7860\n",
            "* Running on public URL: https://6f3545c11bca668b82.gradio.live\n",
            "\n",
            "This share link expires in 1 week. For free permanent hosting and GPU upgrades, run `gradio deploy` from the terminal in the working directory to deploy to Hugging Face Spaces (https://huggingface.co/spaces)\n"
          ]
        },
        {
          "data": {
            "text/html": [
              "<div><iframe src=\"https://6f3545c11bca668b82.gradio.live\" width=\"100%\" height=\"500\" allow=\"autoplay; camera; microphone; clipboard-read; clipboard-write;\" frameborder=\"0\" allowfullscreen></iframe></div>"
            ],
            "text/plain": [
              "<IPython.core.display.HTML object>"
            ]
          },
          "metadata": {},
          "output_type": "display_data"
        },
        {
          "data": {
            "text/plain": []
          },
          "execution_count": 7,
          "metadata": {},
          "output_type": "execute_result"
        }
      ],
      "source": [
        "def chatbot_interface(image, question):\n",
        "    # joint embedding for the query\n",
        "    q_emb = encode_query(image, question)\n",
        "    # retrieve nearest records\n",
        "    _, ids = index.search(q_emb.reshape(1, -1), 5)\n",
        "    examples = [records[i] for i in ids[0]]\n",
        "    return generate_answer(question, examples)\n",
        "\n",
        "\n",
        "# Launch with the proper fn and signature\n",
        "demo = gr.Interface(\n",
        "    fn=chatbot_interface,\n",
        "    inputs=[\n",
        "        gr.Image(type='numpy', label='Upload X-ray'),\n",
        "        gr.Textbox(lines=2, placeholder='Ask a question', label='Question')\n",
        "    ],\n",
        "    outputs=\"text\",\n",
        "    title='Radiology VQA Chatbot'\n",
        ")\n",
        "\n",
        "demo.launch(share=True)"
      ]
    },
    {
      "cell_type": "code",
      "execution_count": 18,
      "id": "ec6a6ceb",
      "metadata": {},
      "outputs": [
        {
          "name": "stderr",
          "output_type": "stream",
          "text": [
            "huggingface/tokenizers: The current process just got forked, after parallelism has already been used. Disabling parallelism to avoid deadlocks...\n",
            "To disable this warning, you can either:\n",
            "\t- Avoid using `tokenizers` before the fork if possible\n",
            "\t- Explicitly set the environment variable TOKENIZERS_PARALLELISM=(true | false)\n"
          ]
        },
        {
          "name": "stdout",
          "output_type": "stream",
          "text": [
            "\u001b[33m  DEPRECATION: Building 'rouge_score' using the legacy setup.py bdist_wheel mechanism, which will be removed in a future version. pip 25.3 will enforce this behaviour change. A possible replacement is to use the standardized build interface by setting the `--use-pep517` option, (possibly combined with `--no-build-isolation`), or adding a `pyproject.toml` file to the source tree of 'rouge_score'. Discussion can be found at https://github.com/pypa/pip/issues/6334\u001b[0m\u001b[33m\n",
            "\u001b[0m"
          ]
        }
      ],
      "source": [
        "# Install the rouge_score package (only needs to be run once)\n",
        "!pip install -q rouge_score"
      ]
    },
    {
      "cell_type": "code",
      "execution_count": null,
      "id": "a10270f5",
      "metadata": {},
      "outputs": [
        {
          "name": "stdout",
          "output_type": "stream",
          "text": [
            "Average ROUGE scores:\n",
            "rouge1: 0.5859\n",
            "rouge2: 0.2222\n",
            "rougeL: 0.4949\n"
          ]
        }
      ],
      "source": [
        "from rouge_score import rouge_scorer\n",
        "import numpy as np\n",
        "\n",
        "def compute_rouge(predictions, references):\n",
        "    # Initialize the scorer with stemming to improve matching\n",
        "    scorer = rouge_scorer.RougeScorer(['rouge1', 'rouge2', 'rougeL'], use_stemmer=True)\n",
        "    \n",
        "    # Score each pair\n",
        "    scores = [scorer.score(ref, pred) for ref, pred in zip(references, predictions)]\n",
        "    \n",
        "    # Aggregate F1 scores\n",
        "    avg_scores = {}\n",
        "    for metric in ['rouge1', 'rouge2', 'rougeL']:\n",
        "        f1_vals = [s[metric].fmeasure for s in scores]\n",
        "        avg_scores[metric] = np.mean(f1_vals)\n",
        "    \n",
        "    return avg_scores\n",
        "\n",
        "# Example usage\n",
        "preds = [\n",
        "    \"No evidence of pneumonia is seen.\",\n",
        "    \"There is a small pleural effusion.\"\n",
        "]\n",
        "refs = [\n",
        "    \"No pneumonia detected.\",\n",
        "    \"Small pleural effusion is present.\"\n",
        "]\n",
        "\n",
        "results = compute_rouge(preds, refs)\n",
        "print(\"Average ROUGE scores:\")\n",
        "for metric, score in results.items():\n",
        "    print(f\"{metric}: {score:.4f}\")\n"
      ]
    },
    {
      "cell_type": "code",
      "execution_count": null,
      "id": "ed58cc06",
      "metadata": {},
      "outputs": [
        {
          "name": "stdout",
          "output_type": "stream",
          "text": [
            "[Keep‐alive] 2025-04-28 17:30:44\n",
            "[Keep‐alive] 2025-04-28 17:40:44\n",
            "[Keep‐alive] 2025-04-28 17:50:44\n",
            "[Keep‐alive] 2025-04-28 18:00:44\n",
            "[Keep‐alive] 2025-04-28 18:10:44\n",
            "[Keep‐alive] 2025-04-28 18:20:44\n",
            "[Keep‐alive] 2025-04-28 18:30:44\n",
            "[Keep‐alive] 2025-04-28 18:40:44\n"
          ]
        }
      ],
      "source": [
        "import time\n",
        "\n",
        "try:\n",
        "    while True:\n",
        "        print(f\"[Keep‐alive] {time.strftime('%Y-%m-%d %H:%M:%S')}\")\n",
        "        time.sleep(10 * 60)  # 10 minutes\n",
        "except KeyboardInterrupt:\n",
        "    print(\"Stopped keep-alive loop.\")\n"
      ]
    }
  ],
  "metadata": {
    "language_info": {
      "name": "python"
    }
  },
  "nbformat": 4,
  "nbformat_minor": 5
}
